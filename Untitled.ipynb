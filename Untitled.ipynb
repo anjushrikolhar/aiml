{
  "nbformat": 4,
  "nbformat_minor": 0,
  "metadata": {
    "colab": {
      "provenance": [],
      "authorship_tag": "ABX9TyO15/PGkMO3HjDe7kORdU5/",
      "include_colab_link": true
    },
    "kernelspec": {
      "name": "python3",
      "display_name": "Python 3"
    },
    "language_info": {
      "name": "python"
    }
  },
  "cells": [
    {
      "cell_type": "markdown",
      "metadata": {
        "id": "view-in-github",
        "colab_type": "text"
      },
      "source": [
        "<a href=\"https://colab.research.google.com/github/anjushrikolhar/aiml/blob/main/Untitled.ipynb\" target=\"_parent\"><img src=\"https://colab.research.google.com/assets/colab-badge.svg\" alt=\"Open In Colab\"/></a>"
      ]
    },
    {
      "cell_type": "code",
      "execution_count": 8,
      "metadata": {
        "colab": {
          "base_uri": "https://localhost:8080/"
        },
        "id": "XGhgkilFMvfI",
        "outputId": "cf273e07-e72d-4266-e510-2d697a940c68"
      },
      "outputs": [
        {
          "output_type": "stream",
          "name": "stdout",
          "text": [
            "   Id  SepalLengthCm  SepalWidthCm  PetalLengthCm  PetalWidthCm      Species  \\\n",
            "0   1            5.1           3.5            1.4           0.2  Iris-setosa   \n",
            "1   2            4.9           3.0            1.4           0.2  Iris-setosa   \n",
            "2   3            4.7           3.2            1.3           0.2  Iris-setosa   \n",
            "3   4            4.6           3.1            1.5           0.2  Iris-setosa   \n",
            "4   5            5.0           3.6            1.4           0.2  Iris-setosa   \n",
            "\n",
            "   class  labels  \n",
            "0      1       4  \n",
            "1      2       2  \n",
            "2      3       6  \n",
            "3      4       4  \n",
            "4      5       5  \n",
            "accuracy_score 1.0\n",
            "classification_report                  precision    recall  f1-score   support\n",
            "\n",
            "    Iris-setosa       1.00      1.00      1.00        11\n",
            "Iris-versicolor       1.00      1.00      1.00        13\n",
            " Iris-virginica       1.00      1.00      1.00         6\n",
            "\n",
            "       accuracy                           1.00        30\n",
            "      macro avg       1.00      1.00      1.00        30\n",
            "   weighted avg       1.00      1.00      1.00        30\n",
            "\n",
            "confusion_matrix [[11  0  0]\n",
            " [ 0 13  0]\n",
            " [ 0  0  6]]\n"
          ]
        }
      ],
      "source": [
        "import pandas as pd\n",
        "import numpy as np\n",
        "import seaborn as sns\n",
        "from sklearn.model_selection import train_test_split\n",
        "from sklearn.tree import DecisionTreeClassifier\n",
        "from sklearn.metrics import classification_report, confusion_matrix,accuracy_score\n",
        "df=pd.read_csv('/content/Iris.csv')\n",
        "print(df.head())\n",
        "x=df[['SepalLengthCm','SepalWidthCm','PetalLengthCm','PetalWidthCm']]\n",
        "y=df['Species']\n",
        "x_train,x_test,y_train,y_test=train_test_split(x,y,test_size=0.2,random_state=0)\n",
        "dtc=DecisionTreeClassifier()\n",
        "dtc.fit(x_train,y_train)\n",
        "y_pred=dtc.predict(x_test)\n",
        "y_pred\n",
        "acc=accuracy_score(y_test,y_pred)\n",
        "cr=classification_report(y_test,y_pred)\n",
        "cm=confusion_matrix(y_test,y_pred)\n",
        "print(\"accuracy_score\",acc)\n",
        "print(\"classification_report\",cr)\n",
        "print(\"confusion_matrix\",cm)\n",
        "\n"
      ]
    }
  ]
}